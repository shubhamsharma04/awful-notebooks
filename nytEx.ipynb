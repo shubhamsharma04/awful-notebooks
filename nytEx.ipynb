{
 "cells": [
  {
   "cell_type": "markdown",
   "metadata": {},
   "source": [
    "An illustrative analysis on nytimes data (From O'Reilly's Data Science pg 39,40)"
   ]
  },
  {
   "cell_type": "code",
   "execution_count": 1,
   "metadata": {
    "collapsed": true
   },
   "outputs": [],
   "source": [
    "data1 <- read.csv('nyt2.csv')"
   ]
  },
  {
   "cell_type": "code",
   "execution_count": 2,
   "metadata": {
    "collapsed": false
   },
   "outputs": [
    {
     "data": {
      "text/html": [
       "<table>\n",
       "<thead><tr><th scope=col>Age</th><th scope=col>Gender</th><th scope=col>Impressions</th><th scope=col>Clicks</th><th scope=col>Signed_In</th></tr></thead>\n",
       "<tbody>\n",
       "\t<tr><td>48</td><td>1 </td><td> 3</td><td>0 </td><td>1 </td></tr>\n",
       "\t<tr><td> 0</td><td>0 </td><td> 9</td><td>1 </td><td>0 </td></tr>\n",
       "\t<tr><td>15</td><td>1 </td><td> 4</td><td>0 </td><td>1 </td></tr>\n",
       "\t<tr><td> 0</td><td>0 </td><td> 5</td><td>0 </td><td>0 </td></tr>\n",
       "\t<tr><td> 0</td><td>0 </td><td> 7</td><td>1 </td><td>0 </td></tr>\n",
       "\t<tr><td> 0</td><td>0 </td><td>11</td><td>0 </td><td>0 </td></tr>\n",
       "</tbody>\n",
       "</table>\n"
      ],
      "text/latex": [
       "\\begin{tabular}{r|lllll}\n",
       " Age & Gender & Impressions & Clicks & Signed\\_In\\\\\n",
       "\\hline\n",
       "\t 48 & 1  &  3 & 0  & 1 \\\\\n",
       "\t  0 & 0  &  9 & 1  & 0 \\\\\n",
       "\t 15 & 1  &  4 & 0  & 1 \\\\\n",
       "\t  0 & 0  &  5 & 0  & 0 \\\\\n",
       "\t  0 & 0  &  7 & 1  & 0 \\\\\n",
       "\t  0 & 0  & 11 & 0  & 0 \\\\\n",
       "\\end{tabular}\n"
      ],
      "text/markdown": [
       "\n",
       "Age | Gender | Impressions | Clicks | Signed_In | \n",
       "|---|---|---|---|---|---|\n",
       "| 48 | 1  |  3 | 0  | 1  | \n",
       "|  0 | 0  |  9 | 1  | 0  | \n",
       "| 15 | 1  |  4 | 0  | 1  | \n",
       "|  0 | 0  |  5 | 0  | 0  | \n",
       "|  0 | 0  |  7 | 1  | 0  | \n",
       "|  0 | 0  | 11 | 0  | 0  | \n",
       "\n",
       "\n"
      ],
      "text/plain": [
       "  Age Gender Impressions Clicks Signed_In\n",
       "1 48  1       3          0      1        \n",
       "2  0  0       9          1      0        \n",
       "3 15  1       4          0      1        \n",
       "4  0  0       5          0      0        \n",
       "5  0  0       7          1      0        \n",
       "6  0  0      11          0      0        "
      ]
     },
     "metadata": {},
     "output_type": "display_data"
    }
   ],
   "source": [
    "head(data1)"
   ]
  },
  {
   "cell_type": "markdown",
   "metadata": {},
   "source": [
    "Convert Numeric to factor"
   ]
  },
  {
   "cell_type": "code",
   "execution_count": 3,
   "metadata": {
    "collapsed": true
   },
   "outputs": [],
   "source": [
    "?cut"
   ]
  },
  {
   "cell_type": "code",
   "execution_count": 4,
   "metadata": {
    "collapsed": false
   },
   "outputs": [
    {
     "data": {
      "text/html": [
       "<table>\n",
       "<thead><tr><th scope=col>Age</th><th scope=col>Gender</th><th scope=col>Impressions</th><th scope=col>Clicks</th><th scope=col>Signed_In</th></tr></thead>\n",
       "<tbody>\n",
       "\t<tr><td>48</td><td>1 </td><td> 3</td><td>0 </td><td>1 </td></tr>\n",
       "\t<tr><td> 0</td><td>0 </td><td> 9</td><td>1 </td><td>0 </td></tr>\n",
       "\t<tr><td>15</td><td>1 </td><td> 4</td><td>0 </td><td>1 </td></tr>\n",
       "\t<tr><td> 0</td><td>0 </td><td> 5</td><td>0 </td><td>0 </td></tr>\n",
       "\t<tr><td> 0</td><td>0 </td><td> 7</td><td>1 </td><td>0 </td></tr>\n",
       "\t<tr><td> 0</td><td>0 </td><td>11</td><td>0 </td><td>0 </td></tr>\n",
       "</tbody>\n",
       "</table>\n"
      ],
      "text/latex": [
       "\\begin{tabular}{r|lllll}\n",
       " Age & Gender & Impressions & Clicks & Signed\\_In\\\\\n",
       "\\hline\n",
       "\t 48 & 1  &  3 & 0  & 1 \\\\\n",
       "\t  0 & 0  &  9 & 1  & 0 \\\\\n",
       "\t 15 & 1  &  4 & 0  & 1 \\\\\n",
       "\t  0 & 0  &  5 & 0  & 0 \\\\\n",
       "\t  0 & 0  &  7 & 1  & 0 \\\\\n",
       "\t  0 & 0  & 11 & 0  & 0 \\\\\n",
       "\\end{tabular}\n"
      ],
      "text/markdown": [
       "\n",
       "Age | Gender | Impressions | Clicks | Signed_In | \n",
       "|---|---|---|---|---|---|\n",
       "| 48 | 1  |  3 | 0  | 1  | \n",
       "|  0 | 0  |  9 | 1  | 0  | \n",
       "| 15 | 1  |  4 | 0  | 1  | \n",
       "|  0 | 0  |  5 | 0  | 0  | \n",
       "|  0 | 0  |  7 | 1  | 0  | \n",
       "|  0 | 0  | 11 | 0  | 0  | \n",
       "\n",
       "\n"
      ],
      "text/plain": [
       "  Age Gender Impressions Clicks Signed_In\n",
       "1 48  1       3          0      1        \n",
       "2  0  0       9          1      0        \n",
       "3 15  1       4          0      1        \n",
       "4  0  0       5          0      0        \n",
       "5  0  0       7          1      0        \n",
       "6  0  0      11          0      0        "
      ]
     },
     "metadata": {},
     "output_type": "display_data"
    }
   ],
   "source": [
    "head(data1)"
   ]
  },
  {
   "cell_type": "markdown",
   "metadata": {},
   "source": [
    "Append an entire column to a data frame"
   ]
  },
  {
   "cell_type": "code",
   "execution_count": 5,
   "metadata": {
    "collapsed": true
   },
   "outputs": [],
   "source": [
    "data1$agecat <-cut(data1$Age,c(-Inf,0,18,24,34,44,54,64,Inf))"
   ]
  },
  {
   "cell_type": "code",
   "execution_count": 12,
   "metadata": {
    "collapsed": false
   },
   "outputs": [
    {
     "data": {
      "text/html": [
       "<table>\n",
       "<thead><tr><th scope=col>Age</th><th scope=col>Gender</th><th scope=col>Impressions</th><th scope=col>Clicks</th><th scope=col>Signed_In</th><th scope=col>agecat</th></tr></thead>\n",
       "<tbody>\n",
       "\t<tr><td>48      </td><td>1       </td><td> 3      </td><td>0       </td><td>1       </td><td>(44,54] </td></tr>\n",
       "\t<tr><td> 0      </td><td>0       </td><td> 9      </td><td>1       </td><td>0       </td><td>(-Inf,0]</td></tr>\n",
       "\t<tr><td>15      </td><td>1       </td><td> 4      </td><td>0       </td><td>1       </td><td>(0,18]  </td></tr>\n",
       "\t<tr><td> 0      </td><td>0       </td><td> 5      </td><td>0       </td><td>0       </td><td>(-Inf,0]</td></tr>\n",
       "\t<tr><td> 0      </td><td>0       </td><td> 7      </td><td>1       </td><td>0       </td><td>(-Inf,0]</td></tr>\n",
       "\t<tr><td> 0      </td><td>0       </td><td>11      </td><td>0       </td><td>0       </td><td>(-Inf,0]</td></tr>\n",
       "</tbody>\n",
       "</table>\n"
      ],
      "text/latex": [
       "\\begin{tabular}{r|llllll}\n",
       " Age & Gender & Impressions & Clicks & Signed\\_In & agecat\\\\\n",
       "\\hline\n",
       "\t 48         & 1          &  3         & 0          & 1          & (44,54{]} \\\\\n",
       "\t  0         & 0          &  9         & 1          & 0          & (-Inf,0{]}\\\\\n",
       "\t 15         & 1          &  4         & 0          & 1          & (0,18{]}  \\\\\n",
       "\t  0         & 0          &  5         & 0          & 0          & (-Inf,0{]}\\\\\n",
       "\t  0         & 0          &  7         & 1          & 0          & (-Inf,0{]}\\\\\n",
       "\t  0         & 0          & 11         & 0          & 0          & (-Inf,0{]}\\\\\n",
       "\\end{tabular}\n"
      ],
      "text/markdown": [
       "\n",
       "Age | Gender | Impressions | Clicks | Signed_In | agecat | \n",
       "|---|---|---|---|---|---|\n",
       "| 48       | 1        |  3       | 0        | 1        | (44,54]  | \n",
       "|  0       | 0        |  9       | 1        | 0        | (-Inf,0] | \n",
       "| 15       | 1        |  4       | 0        | 1        | (0,18]   | \n",
       "|  0       | 0        |  5       | 0        | 0        | (-Inf,0] | \n",
       "|  0       | 0        |  7       | 1        | 0        | (-Inf,0] | \n",
       "|  0       | 0        | 11       | 0        | 0        | (-Inf,0] | \n",
       "\n",
       "\n"
      ],
      "text/plain": [
       "  Age Gender Impressions Clicks Signed_In agecat  \n",
       "1 48  1       3          0      1         (44,54] \n",
       "2  0  0       9          1      0         (-Inf,0]\n",
       "3 15  1       4          0      1         (0,18]  \n",
       "4  0  0       5          0      0         (-Inf,0]\n",
       "5  0  0       7          1      0         (-Inf,0]\n",
       "6  0  0      11          0      0         (-Inf,0]"
      ]
     },
     "metadata": {},
     "output_type": "display_data"
    }
   ],
   "source": [
    "head(data1)"
   ]
  },
  {
   "cell_type": "code",
   "execution_count": 7,
   "metadata": {
    "collapsed": true
   },
   "outputs": [],
   "source": [
    "library(doBy)"
   ]
  },
  {
   "cell_type": "code",
   "execution_count": 8,
   "metadata": {
    "collapsed": true
   },
   "outputs": [],
   "source": [
    "siterange <- function(x){c(length(x), min(x), mean(x), max(x))}"
   ]
  },
  {
   "cell_type": "code",
   "execution_count": 9,
   "metadata": {
    "collapsed": false
   },
   "outputs": [
    {
     "data": {
      "text/html": [
       "3"
      ],
      "text/latex": [
       "3"
      ],
      "text/markdown": [
       "3"
      ],
      "text/plain": [
       "[1] 3"
      ]
     },
     "metadata": {},
     "output_type": "display_data"
    }
   ],
   "source": [
    "testFun <- function(x,y){x+y}\n",
    "z<-testFun(1,2)\n",
    "z"
   ]
  },
  {
   "cell_type": "code",
   "execution_count": 13,
   "metadata": {
    "collapsed": true
   },
   "outputs": [],
   "source": [
    "?summaryBy"
   ]
  },
  {
   "cell_type": "code",
   "execution_count": 11,
   "metadata": {
    "collapsed": false
   },
   "outputs": [
    {
     "data": {
      "text/html": [
       "<table>\n",
       "<thead><tr><th scope=col>agecat</th><th scope=col>Age.FUN1</th><th scope=col>Age.FUN2</th><th scope=col>Age.FUN3</th><th scope=col>Age.FUN4</th></tr></thead>\n",
       "<tbody>\n",
       "\t<tr><td>(-Inf,0] </td><td>134572   </td><td> 0       </td><td> 0.00000 </td><td>  0      </td></tr>\n",
       "\t<tr><td>(0,18]   </td><td> 19135   </td><td> 4       </td><td>16.01871 </td><td> 18      </td></tr>\n",
       "\t<tr><td>(18,24]  </td><td> 34529   </td><td>19       </td><td>21.28110 </td><td> 24      </td></tr>\n",
       "\t<tr><td>(24,34]  </td><td> 56898   </td><td>25       </td><td>29.50074 </td><td> 34      </td></tr>\n",
       "\t<tr><td>(34,44]  </td><td> 68974   </td><td>35       </td><td>39.51296 </td><td> 44      </td></tr>\n",
       "\t<tr><td>(44,54]  </td><td> 63307   </td><td>45       </td><td>49.50617 </td><td> 54      </td></tr>\n",
       "\t<tr><td>(54,64]  </td><td> 44043   </td><td>55       </td><td>59.49751 </td><td> 64      </td></tr>\n",
       "\t<tr><td>(64, Inf]</td><td> 28477   </td><td>65       </td><td>72.94104 </td><td>111      </td></tr>\n",
       "</tbody>\n",
       "</table>\n"
      ],
      "text/latex": [
       "\\begin{tabular}{r|lllll}\n",
       " agecat & Age.FUN1 & Age.FUN2 & Age.FUN3 & Age.FUN4\\\\\n",
       "\\hline\n",
       "\t (-Inf,0{]}  & 134572      &  0          &  0.00000    &   0        \\\\\n",
       "\t (0,18{]}    &  19135      &  4          & 16.01871    &  18        \\\\\n",
       "\t (18,24{]}   &  34529      & 19          & 21.28110    &  24        \\\\\n",
       "\t (24,34{]}   &  56898      & 25          & 29.50074    &  34        \\\\\n",
       "\t (34,44{]}   &  68974      & 35          & 39.51296    &  44        \\\\\n",
       "\t (44,54{]}   &  63307      & 45          & 49.50617    &  54        \\\\\n",
       "\t (54,64{]}   &  44043      & 55          & 59.49751    &  64        \\\\\n",
       "\t (64, Inf{]} &  28477      & 65          & 72.94104    & 111        \\\\\n",
       "\\end{tabular}\n"
      ],
      "text/markdown": [
       "\n",
       "agecat | Age.FUN1 | Age.FUN2 | Age.FUN3 | Age.FUN4 | \n",
       "|---|---|---|---|---|---|---|---|\n",
       "| (-Inf,0]  | 134572    |  0        |  0.00000  |   0       | \n",
       "| (0,18]    |  19135    |  4        | 16.01871  |  18       | \n",
       "| (18,24]   |  34529    | 19        | 21.28110  |  24       | \n",
       "| (24,34]   |  56898    | 25        | 29.50074  |  34       | \n",
       "| (34,44]   |  68974    | 35        | 39.51296  |  44       | \n",
       "| (44,54]   |  63307    | 45        | 49.50617  |  54       | \n",
       "| (54,64]   |  44043    | 55        | 59.49751  |  64       | \n",
       "| (64, Inf] |  28477    | 65        | 72.94104  | 111       | \n",
       "\n",
       "\n"
      ],
      "text/plain": [
       "  agecat    Age.FUN1 Age.FUN2 Age.FUN3 Age.FUN4\n",
       "1 (-Inf,0]  134572    0        0.00000   0     \n",
       "2 (0,18]     19135    4       16.01871  18     \n",
       "3 (18,24]    34529   19       21.28110  24     \n",
       "4 (24,34]    56898   25       29.50074  34     \n",
       "5 (34,44]    68974   35       39.51296  44     \n",
       "6 (44,54]    63307   45       49.50617  54     \n",
       "7 (54,64]    44043   55       59.49751  64     \n",
       "8 (64, Inf]  28477   65       72.94104 111     "
      ]
     },
     "metadata": {},
     "output_type": "display_data"
    }
   ],
   "source": [
    "summaryBy(Age~agecat, data=data1, FUN=siterange)"
   ]
  },
  {
   "cell_type": "code",
   "execution_count": 14,
   "metadata": {
    "collapsed": false
   },
   "outputs": [
    {
     "data": {
      "text/html": [
       "<table>\n",
       "<thead><tr><th scope=col>agecat</th><th scope=col>Gender.mean</th><th scope=col>Signed_In.mean</th><th scope=col>Impressions.mean</th><th scope=col>Clicks.mean</th></tr></thead>\n",
       "<tbody>\n",
       "\t<tr><td>(-Inf,0]  </td><td>0.0000000 </td><td>0         </td><td>5.002772  </td><td>0.14213952</td></tr>\n",
       "\t<tr><td>(0,18]    </td><td>0.6516854 </td><td>1         </td><td>4.998223  </td><td>0.13441338</td></tr>\n",
       "\t<tr><td>(18,24]   </td><td>0.5411683 </td><td>1         </td><td>4.986214  </td><td>0.05178256</td></tr>\n",
       "\t<tr><td>(24,34]   </td><td>0.5410735 </td><td>1         </td><td>5.007083  </td><td>0.05023024</td></tr>\n",
       "\t<tr><td>(34,44]   </td><td>0.5452779 </td><td>1         </td><td>4.987068  </td><td>0.05101922</td></tr>\n",
       "\t<tr><td>(44,54]   </td><td>0.5432575 </td><td>1         </td><td>4.994392  </td><td>0.05122656</td></tr>\n",
       "\t<tr><td>(54,64]   </td><td>0.5434689 </td><td>1         </td><td>5.020435  </td><td>0.10160525</td></tr>\n",
       "\t<tr><td>(64, Inf] </td><td>0.3713874 </td><td>1         </td><td>4.996207  </td><td>0.14639885</td></tr>\n",
       "</tbody>\n",
       "</table>\n"
      ],
      "text/latex": [
       "\\begin{tabular}{r|lllll}\n",
       " agecat & Gender.mean & Signed\\_In.mean & Impressions.mean & Clicks.mean\\\\\n",
       "\\hline\n",
       "\t (-Inf,0{]}  & 0.0000000   & 0           & 5.002772    & 0.14213952 \\\\\n",
       "\t (0,18{]}    & 0.6516854   & 1           & 4.998223    & 0.13441338 \\\\\n",
       "\t (18,24{]}   & 0.5411683   & 1           & 4.986214    & 0.05178256 \\\\\n",
       "\t (24,34{]}   & 0.5410735   & 1           & 5.007083    & 0.05023024 \\\\\n",
       "\t (34,44{]}   & 0.5452779   & 1           & 4.987068    & 0.05101922 \\\\\n",
       "\t (44,54{]}   & 0.5432575   & 1           & 4.994392    & 0.05122656 \\\\\n",
       "\t (54,64{]}   & 0.5434689   & 1           & 5.020435    & 0.10160525 \\\\\n",
       "\t (64, Inf{]} & 0.3713874   & 1           & 4.996207    & 0.14639885 \\\\\n",
       "\\end{tabular}\n"
      ],
      "text/markdown": [
       "\n",
       "agecat | Gender.mean | Signed_In.mean | Impressions.mean | Clicks.mean | \n",
       "|---|---|---|---|---|---|---|---|\n",
       "| (-Inf,0]   | 0.0000000  | 0          | 5.002772   | 0.14213952 | \n",
       "| (0,18]     | 0.6516854  | 1          | 4.998223   | 0.13441338 | \n",
       "| (18,24]    | 0.5411683  | 1          | 4.986214   | 0.05178256 | \n",
       "| (24,34]    | 0.5410735  | 1          | 5.007083   | 0.05023024 | \n",
       "| (34,44]    | 0.5452779  | 1          | 4.987068   | 0.05101922 | \n",
       "| (44,54]    | 0.5432575  | 1          | 4.994392   | 0.05122656 | \n",
       "| (54,64]    | 0.5434689  | 1          | 5.020435   | 0.10160525 | \n",
       "| (64, Inf]  | 0.3713874  | 1          | 4.996207   | 0.14639885 | \n",
       "\n",
       "\n"
      ],
      "text/plain": [
       "  agecat    Gender.mean Signed_In.mean Impressions.mean Clicks.mean\n",
       "1 (-Inf,0]  0.0000000   0              5.002772         0.14213952 \n",
       "2 (0,18]    0.6516854   1              4.998223         0.13441338 \n",
       "3 (18,24]   0.5411683   1              4.986214         0.05178256 \n",
       "4 (24,34]   0.5410735   1              5.007083         0.05023024 \n",
       "5 (34,44]   0.5452779   1              4.987068         0.05101922 \n",
       "6 (44,54]   0.5432575   1              4.994392         0.05122656 \n",
       "7 (54,64]   0.5434689   1              5.020435         0.10160525 \n",
       "8 (64, Inf] 0.3713874   1              4.996207         0.14639885 "
      ]
     },
     "metadata": {},
     "output_type": "display_data"
    }
   ],
   "source": [
    "summaryBy(Gender+Signed_In+Impressions+Clicks~agecat,\n",
    "data =data1)"
   ]
  },
  {
   "cell_type": "code",
   "execution_count": 15,
   "metadata": {
    "collapsed": true
   },
   "outputs": [],
   "source": [
    "library(ggplot2)"
   ]
  },
  {
   "cell_type": "code",
   "execution_count": 17,
   "metadata": {
    "collapsed": false
   },
   "outputs": [
    {
     "data": {},
     "metadata": {},
     "output_type": "display_data"
    },
    {
     "data": {
      "image/png": "[encoded data removed]",
      "text/plain": [
       "plot without title"
      ]
     },
     "metadata": {},
     "output_type": "display_data"
    }
   ],
   "source": [
    "ggplot(data1, aes(x=Impressions, fill=agecat))+geom_histogram(binwidth=1)"
   ]
  },
  {
   "cell_type": "code",
   "execution_count": 21,
   "metadata": {
    "collapsed": false
   },
   "outputs": [
    {
     "data": {},
     "metadata": {},
     "output_type": "display_data"
    },
    {
     "data": {
      "image/png": "[encoded data removed]",
      "text/plain": [
       "plot without title"
      ]
     },
     "metadata": {},
     "output_type": "display_data"
    }
   ],
   "source": [
    "ggplot(data1, aes(x=agecat, y=Impressions, fill=agecat))+geom_boxplot()"
   ]
  },
  {
   "cell_type": "code",
   "execution_count": 22,
   "metadata": {
    "collapsed": true
   },
   "outputs": [],
   "source": [
    "data1$hasimps <-cut(data1$Impressions,c(-Inf,0,Inf))"
   ]
  },
  {
   "cell_type": "code",
   "execution_count": 23,
   "metadata": {
    "collapsed": false
   },
   "outputs": [
    {
     "data": {
      "text/html": [
       "<table>\n",
       "<thead><tr><th scope=col>Age</th><th scope=col>Gender</th><th scope=col>Impressions</th><th scope=col>Clicks</th><th scope=col>Signed_In</th><th scope=col>agecat</th><th scope=col>hasimps</th></tr></thead>\n",
       "<tbody>\n",
       "\t<tr><td>48      </td><td>1       </td><td> 3      </td><td>0       </td><td>1       </td><td>(44,54] </td><td>(0, Inf]</td></tr>\n",
       "\t<tr><td> 0      </td><td>0       </td><td> 9      </td><td>1       </td><td>0       </td><td>(-Inf,0]</td><td>(0, Inf]</td></tr>\n",
       "\t<tr><td>15      </td><td>1       </td><td> 4      </td><td>0       </td><td>1       </td><td>(0,18]  </td><td>(0, Inf]</td></tr>\n",
       "\t<tr><td> 0      </td><td>0       </td><td> 5      </td><td>0       </td><td>0       </td><td>(-Inf,0]</td><td>(0, Inf]</td></tr>\n",
       "\t<tr><td> 0      </td><td>0       </td><td> 7      </td><td>1       </td><td>0       </td><td>(-Inf,0]</td><td>(0, Inf]</td></tr>\n",
       "\t<tr><td> 0      </td><td>0       </td><td>11      </td><td>0       </td><td>0       </td><td>(-Inf,0]</td><td>(0, Inf]</td></tr>\n",
       "</tbody>\n",
       "</table>\n"
      ],
      "text/latex": [
       "\\begin{tabular}{r|lllllll}\n",
       " Age & Gender & Impressions & Clicks & Signed\\_In & agecat & hasimps\\\\\n",
       "\\hline\n",
       "\t 48         & 1          &  3         & 0          & 1          & (44,54{]}  & (0, Inf{]}\\\\\n",
       "\t  0         & 0          &  9         & 1          & 0          & (-Inf,0{]} & (0, Inf{]}\\\\\n",
       "\t 15         & 1          &  4         & 0          & 1          & (0,18{]}   & (0, Inf{]}\\\\\n",
       "\t  0         & 0          &  5         & 0          & 0          & (-Inf,0{]} & (0, Inf{]}\\\\\n",
       "\t  0         & 0          &  7         & 1          & 0          & (-Inf,0{]} & (0, Inf{]}\\\\\n",
       "\t  0         & 0          & 11         & 0          & 0          & (-Inf,0{]} & (0, Inf{]}\\\\\n",
       "\\end{tabular}\n"
      ],
      "text/markdown": [
       "\n",
       "Age | Gender | Impressions | Clicks | Signed_In | agecat | hasimps | \n",
       "|---|---|---|---|---|---|\n",
       "| 48       | 1        |  3       | 0        | 1        | (44,54]  | (0, Inf] | \n",
       "|  0       | 0        |  9       | 1        | 0        | (-Inf,0] | (0, Inf] | \n",
       "| 15       | 1        |  4       | 0        | 1        | (0,18]   | (0, Inf] | \n",
       "|  0       | 0        |  5       | 0        | 0        | (-Inf,0] | (0, Inf] | \n",
       "|  0       | 0        |  7       | 1        | 0        | (-Inf,0] | (0, Inf] | \n",
       "|  0       | 0        | 11       | 0        | 0        | (-Inf,0] | (0, Inf] | \n",
       "\n",
       "\n"
      ],
      "text/plain": [
       "  Age Gender Impressions Clicks Signed_In agecat   hasimps \n",
       "1 48  1       3          0      1         (44,54]  (0, Inf]\n",
       "2  0  0       9          1      0         (-Inf,0] (0, Inf]\n",
       "3 15  1       4          0      1         (0,18]   (0, Inf]\n",
       "4  0  0       5          0      0         (-Inf,0] (0, Inf]\n",
       "5  0  0       7          1      0         (-Inf,0] (0, Inf]\n",
       "6  0  0      11          0      0         (-Inf,0] (0, Inf]"
      ]
     },
     "metadata": {},
     "output_type": "display_data"
    }
   ],
   "source": [
    "head(data1)"
   ]
  },
  {
   "cell_type": "code",
   "execution_count": 24,
   "metadata": {
    "collapsed": false
   },
   "outputs": [
    {
     "data": {
      "text/html": [
       "<table>\n",
       "<thead><tr><th scope=col>hasimps</th><th scope=col>Clicks.FUN1</th><th scope=col>Clicks.FUN2</th><th scope=col>Clicks.FUN3</th><th scope=col>Clicks.FUN4</th></tr></thead>\n",
       "<tbody>\n",
       "\t<tr><td>(-Inf,0]  </td><td>  3056    </td><td>0         </td><td>0.00000000</td><td>0         </td></tr>\n",
       "\t<tr><td>(0, Inf]  </td><td>446879    </td><td>0         </td><td>0.09343021</td><td>5         </td></tr>\n",
       "</tbody>\n",
       "</table>\n"
      ],
      "text/latex": [
       "\\begin{tabular}{r|lllll}\n",
       " hasimps & Clicks.FUN1 & Clicks.FUN2 & Clicks.FUN3 & Clicks.FUN4\\\\\n",
       "\\hline\n",
       "\t (-Inf,0{]} &   3056     & 0          & 0.00000000 & 0         \\\\\n",
       "\t (0, Inf{]} & 446879     & 0          & 0.09343021 & 5         \\\\\n",
       "\\end{tabular}\n"
      ],
      "text/markdown": [
       "\n",
       "hasimps | Clicks.FUN1 | Clicks.FUN2 | Clicks.FUN3 | Clicks.FUN4 | \n",
       "|---|---|\n",
       "| (-Inf,0]   |   3056     | 0          | 0.00000000 | 0          | \n",
       "| (0, Inf]   | 446879     | 0          | 0.09343021 | 5          | \n",
       "\n",
       "\n"
      ],
      "text/plain": [
       "  hasimps  Clicks.FUN1 Clicks.FUN2 Clicks.FUN3 Clicks.FUN4\n",
       "1 (-Inf,0]   3056      0           0.00000000  0          \n",
       "2 (0, Inf] 446879      0           0.09343021  5          "
      ]
     },
     "metadata": {},
     "output_type": "display_data"
    }
   ],
   "source": [
    "summaryBy(Clicks~hasimps, data =data1, FUN=siterange)"
   ]
  },
  {
   "cell_type": "code",
   "execution_count": 25,
   "metadata": {
    "collapsed": false
   },
   "outputs": [
    {
     "data": {
      "text/html": [
       "449935"
      ],
      "text/latex": [
       "449935"
      ],
      "text/markdown": [
       "449935"
      ],
      "text/plain": [
       "[1] 449935"
      ]
     },
     "metadata": {},
     "output_type": "display_data"
    }
   ],
   "source": [
    "nrow(data1)"
   ]
  },
  {
   "cell_type": "code",
   "execution_count": 26,
   "metadata": {
    "collapsed": true
   },
   "outputs": [],
   "source": [
    "?subset"
   ]
  },
  {
   "cell_type": "code",
   "execution_count": 27,
   "metadata": {
    "collapsed": false
   },
   "outputs": [
    {
     "data": {},
     "metadata": {},
     "output_type": "display_data"
    },
    {
     "data": {
      "image/png": "[encoded data removed]",
      "text/plain": [
       "plot without title"
      ]
     },
     "metadata": {},
     "output_type": "display_data"
    }
   ],
   "source": [
    "ggplot(subset(data1, Impressions>0), aes(x=Clicks/Impressions,colour=agecat)) + geom_density()"
   ]
  },
  {
   "cell_type": "code",
   "execution_count": 30,
   "metadata": {
    "collapsed": true
   },
   "outputs": [],
   "source": [
    "data1$scode[data1$Impressions==0] <- \"NoImps\"\n",
    "data1$scode[data1$Impressions >0] <- \"Imps\"\n",
    "data1$scode[data1$Clicks >0] <- \"Clicks\""
   ]
  },
  {
   "cell_type": "code",
   "execution_count": 31,
   "metadata": {
    "collapsed": false
   },
   "outputs": [
    {
     "data": {
      "text/html": [
       "<table>\n",
       "<thead><tr><th scope=col>Age</th><th scope=col>Gender</th><th scope=col>Impressions</th><th scope=col>Clicks</th><th scope=col>Signed_In</th><th scope=col>agecat</th><th scope=col>hasimps</th><th scope=col>scode</th></tr></thead>\n",
       "<tbody>\n",
       "\t<tr><td>48      </td><td>1       </td><td> 3      </td><td>0       </td><td>1       </td><td>(44,54] </td><td>(0, Inf]</td><td>Imps    </td></tr>\n",
       "\t<tr><td> 0      </td><td>0       </td><td> 9      </td><td>1       </td><td>0       </td><td>(-Inf,0]</td><td>(0, Inf]</td><td>Clicks  </td></tr>\n",
       "\t<tr><td>15      </td><td>1       </td><td> 4      </td><td>0       </td><td>1       </td><td>(0,18]  </td><td>(0, Inf]</td><td>Imps    </td></tr>\n",
       "\t<tr><td> 0      </td><td>0       </td><td> 5      </td><td>0       </td><td>0       </td><td>(-Inf,0]</td><td>(0, Inf]</td><td>Imps    </td></tr>\n",
       "\t<tr><td> 0      </td><td>0       </td><td> 7      </td><td>1       </td><td>0       </td><td>(-Inf,0]</td><td>(0, Inf]</td><td>Clicks  </td></tr>\n",
       "\t<tr><td> 0      </td><td>0       </td><td>11      </td><td>0       </td><td>0       </td><td>(-Inf,0]</td><td>(0, Inf]</td><td>Imps    </td></tr>\n",
       "</tbody>\n",
       "</table>\n"
      ],
      "text/latex": [
       "\\begin{tabular}{r|llllllll}\n",
       " Age & Gender & Impressions & Clicks & Signed\\_In & agecat & hasimps & scode\\\\\n",
       "\\hline\n",
       "\t 48         & 1          &  3         & 0          & 1          & (44,54{]}  & (0, Inf{]} & Imps      \\\\\n",
       "\t  0         & 0          &  9         & 1          & 0          & (-Inf,0{]} & (0, Inf{]} & Clicks    \\\\\n",
       "\t 15         & 1          &  4         & 0          & 1          & (0,18{]}   & (0, Inf{]} & Imps      \\\\\n",
       "\t  0         & 0          &  5         & 0          & 0          & (-Inf,0{]} & (0, Inf{]} & Imps      \\\\\n",
       "\t  0         & 0          &  7         & 1          & 0          & (-Inf,0{]} & (0, Inf{]} & Clicks    \\\\\n",
       "\t  0         & 0          & 11         & 0          & 0          & (-Inf,0{]} & (0, Inf{]} & Imps      \\\\\n",
       "\\end{tabular}\n"
      ],
      "text/markdown": [
       "\n",
       "Age | Gender | Impressions | Clicks | Signed_In | agecat | hasimps | scode | \n",
       "|---|---|---|---|---|---|\n",
       "| 48       | 1        |  3       | 0        | 1        | (44,54]  | (0, Inf] | Imps     | \n",
       "|  0       | 0        |  9       | 1        | 0        | (-Inf,0] | (0, Inf] | Clicks   | \n",
       "| 15       | 1        |  4       | 0        | 1        | (0,18]   | (0, Inf] | Imps     | \n",
       "|  0       | 0        |  5       | 0        | 0        | (-Inf,0] | (0, Inf] | Imps     | \n",
       "|  0       | 0        |  7       | 1        | 0        | (-Inf,0] | (0, Inf] | Clicks   | \n",
       "|  0       | 0        | 11       | 0        | 0        | (-Inf,0] | (0, Inf] | Imps     | \n",
       "\n",
       "\n"
      ],
      "text/plain": [
       "  Age Gender Impressions Clicks Signed_In agecat   hasimps  scode \n",
       "1 48  1       3          0      1         (44,54]  (0, Inf] Imps  \n",
       "2  0  0       9          1      0         (-Inf,0] (0, Inf] Clicks\n",
       "3 15  1       4          0      1         (0,18]   (0, Inf] Imps  \n",
       "4  0  0       5          0      0         (-Inf,0] (0, Inf] Imps  \n",
       "5  0  0       7          1      0         (-Inf,0] (0, Inf] Clicks\n",
       "6  0  0      11          0      0         (-Inf,0] (0, Inf] Imps  "
      ]
     },
     "metadata": {},
     "output_type": "display_data"
    }
   ],
   "source": [
    "head(data1)"
   ]
  },
  {
   "cell_type": "code",
   "execution_count": 32,
   "metadata": {
    "collapsed": true
   },
   "outputs": [],
   "source": [
    "data1$scode <- factor(data1$scode)"
   ]
  },
  {
   "cell_type": "code",
   "execution_count": 33,
   "metadata": {
    "collapsed": false
   },
   "outputs": [
    {
     "data": {
      "text/html": [
       "<table>\n",
       "<thead><tr><th scope=col>Age</th><th scope=col>Gender</th><th scope=col>Impressions</th><th scope=col>Clicks</th><th scope=col>Signed_In</th><th scope=col>agecat</th><th scope=col>hasimps</th><th scope=col>scode</th></tr></thead>\n",
       "<tbody>\n",
       "\t<tr><td>48      </td><td>1       </td><td> 3      </td><td>0       </td><td>1       </td><td>(44,54] </td><td>(0, Inf]</td><td>Imps    </td></tr>\n",
       "\t<tr><td> 0      </td><td>0       </td><td> 9      </td><td>1       </td><td>0       </td><td>(-Inf,0]</td><td>(0, Inf]</td><td>Clicks  </td></tr>\n",
       "\t<tr><td>15      </td><td>1       </td><td> 4      </td><td>0       </td><td>1       </td><td>(0,18]  </td><td>(0, Inf]</td><td>Imps    </td></tr>\n",
       "\t<tr><td> 0      </td><td>0       </td><td> 5      </td><td>0       </td><td>0       </td><td>(-Inf,0]</td><td>(0, Inf]</td><td>Imps    </td></tr>\n",
       "\t<tr><td> 0      </td><td>0       </td><td> 7      </td><td>1       </td><td>0       </td><td>(-Inf,0]</td><td>(0, Inf]</td><td>Clicks  </td></tr>\n",
       "\t<tr><td> 0      </td><td>0       </td><td>11      </td><td>0       </td><td>0       </td><td>(-Inf,0]</td><td>(0, Inf]</td><td>Imps    </td></tr>\n",
       "</tbody>\n",
       "</table>\n"
      ],
      "text/latex": [
       "\\begin{tabular}{r|llllllll}\n",
       " Age & Gender & Impressions & Clicks & Signed\\_In & agecat & hasimps & scode\\\\\n",
       "\\hline\n",
       "\t 48         & 1          &  3         & 0          & 1          & (44,54{]}  & (0, Inf{]} & Imps      \\\\\n",
       "\t  0         & 0          &  9         & 1          & 0          & (-Inf,0{]} & (0, Inf{]} & Clicks    \\\\\n",
       "\t 15         & 1          &  4         & 0          & 1          & (0,18{]}   & (0, Inf{]} & Imps      \\\\\n",
       "\t  0         & 0          &  5         & 0          & 0          & (-Inf,0{]} & (0, Inf{]} & Imps      \\\\\n",
       "\t  0         & 0          &  7         & 1          & 0          & (-Inf,0{]} & (0, Inf{]} & Clicks    \\\\\n",
       "\t  0         & 0          & 11         & 0          & 0          & (-Inf,0{]} & (0, Inf{]} & Imps      \\\\\n",
       "\\end{tabular}\n"
      ],
      "text/markdown": [
       "\n",
       "Age | Gender | Impressions | Clicks | Signed_In | agecat | hasimps | scode | \n",
       "|---|---|---|---|---|---|\n",
       "| 48       | 1        |  3       | 0        | 1        | (44,54]  | (0, Inf] | Imps     | \n",
       "|  0       | 0        |  9       | 1        | 0        | (-Inf,0] | (0, Inf] | Clicks   | \n",
       "| 15       | 1        |  4       | 0        | 1        | (0,18]   | (0, Inf] | Imps     | \n",
       "|  0       | 0        |  5       | 0        | 0        | (-Inf,0] | (0, Inf] | Imps     | \n",
       "|  0       | 0        |  7       | 1        | 0        | (-Inf,0] | (0, Inf] | Clicks   | \n",
       "|  0       | 0        | 11       | 0        | 0        | (-Inf,0] | (0, Inf] | Imps     | \n",
       "\n",
       "\n"
      ],
      "text/plain": [
       "  Age Gender Impressions Clicks Signed_In agecat   hasimps  scode \n",
       "1 48  1       3          0      1         (44,54]  (0, Inf] Imps  \n",
       "2  0  0       9          1      0         (-Inf,0] (0, Inf] Clicks\n",
       "3 15  1       4          0      1         (0,18]   (0, Inf] Imps  \n",
       "4  0  0       5          0      0         (-Inf,0] (0, Inf] Imps  \n",
       "5  0  0       7          1      0         (-Inf,0] (0, Inf] Clicks\n",
       "6  0  0      11          0      0         (-Inf,0] (0, Inf] Imps  "
      ]
     },
     "metadata": {},
     "output_type": "display_data"
    }
   ],
   "source": [
    "head(data1)"
   ]
  },
  {
   "cell_type": "code",
   "execution_count": 34,
   "metadata": {
    "collapsed": true
   },
   "outputs": [],
   "source": [
    "clen <- function(x){c(length(x))}\n",
    "etable<-summaryBy(Impressions~scode+Gender+agecat,data = data1, FUN=clen)"
   ]
  },
  {
   "cell_type": "code",
   "execution_count": 35,
   "metadata": {
    "collapsed": false
   },
   "outputs": [
    {
     "data": {
      "text/html": [
       "<table>\n",
       "<thead><tr><th scope=col>scode</th><th scope=col>Gender</th><th scope=col>agecat</th><th scope=col>Impressions.clen</th></tr></thead>\n",
       "<tbody>\n",
       "\t<tr><td>Clicks   </td><td>0        </td><td>(-Inf,0] </td><td> 17530   </td></tr>\n",
       "\t<tr><td>Clicks   </td><td>0        </td><td>(0,18]   </td><td>   807   </td></tr>\n",
       "\t<tr><td>Clicks   </td><td>0        </td><td>(18,24]  </td><td>   791   </td></tr>\n",
       "\t<tr><td>Clicks   </td><td>0        </td><td>(24,34]  </td><td>  1276   </td></tr>\n",
       "\t<tr><td>Clicks   </td><td>0        </td><td>(34,44]  </td><td>  1564   </td></tr>\n",
       "\t<tr><td>Clicks   </td><td>0        </td><td>(44,54]  </td><td>  1442   </td></tr>\n",
       "\t<tr><td>Clicks   </td><td>0        </td><td>(54,64]  </td><td>  1953   </td></tr>\n",
       "\t<tr><td>Clicks   </td><td>0        </td><td>(64, Inf]</td><td>  2378   </td></tr>\n",
       "\t<tr><td>Clicks   </td><td>1        </td><td>(0,18]   </td><td>  1600   </td></tr>\n",
       "\t<tr><td>Clicks   </td><td>1        </td><td>(18,24]  </td><td>   953   </td></tr>\n",
       "\t<tr><td>Clicks   </td><td>1        </td><td>(24,34]  </td><td>  1515   </td></tr>\n",
       "\t<tr><td>Clicks   </td><td>1        </td><td>(34,44]  </td><td>  1866   </td></tr>\n",
       "\t<tr><td>Clicks   </td><td>1        </td><td>(44,54]  </td><td>  1710   </td></tr>\n",
       "\t<tr><td>Clicks   </td><td>1        </td><td>(54,64]  </td><td>  2298   </td></tr>\n",
       "\t<tr><td>Clicks   </td><td>1        </td><td>(64, Inf]</td><td>  1490   </td></tr>\n",
       "\t<tr><td>Imps     </td><td>0        </td><td>(-Inf,0] </td><td>116118   </td></tr>\n",
       "\t<tr><td>Imps     </td><td>0        </td><td>(0,18]   </td><td>  5807   </td></tr>\n",
       "\t<tr><td>Imps     </td><td>0        </td><td>(18,24]  </td><td> 14945   </td></tr>\n",
       "\t<tr><td>Imps     </td><td>0        </td><td>(24,34]  </td><td> 24674   </td></tr>\n",
       "\t<tr><td>Imps     </td><td>0        </td><td>(34,44]  </td><td> 29592   </td></tr>\n",
       "\t<tr><td>Imps     </td><td>0        </td><td>(44,54]  </td><td> 27302   </td></tr>\n",
       "\t<tr><td>Imps     </td><td>0        </td><td>(54,64]  </td><td> 18030   </td></tr>\n",
       "\t<tr><td>Imps     </td><td>0        </td><td>(64, Inf]</td><td> 15397   </td></tr>\n",
       "\t<tr><td>Imps     </td><td>1        </td><td>(0,18]   </td><td> 10773   </td></tr>\n",
       "\t<tr><td>Imps     </td><td>1        </td><td>(18,24]  </td><td> 17590   </td></tr>\n",
       "\t<tr><td>Imps     </td><td>1        </td><td>(24,34]  </td><td> 29068   </td></tr>\n",
       "\t<tr><td>Imps     </td><td>1        </td><td>(34,44]  </td><td> 35474   </td></tr>\n",
       "\t<tr><td>Imps     </td><td>1        </td><td>(44,54]  </td><td> 32456   </td></tr>\n",
       "\t<tr><td>Imps     </td><td>1        </td><td>(54,64]  </td><td> 21469   </td></tr>\n",
       "\t<tr><td>Imps     </td><td>1        </td><td>(64, Inf]</td><td>  9011   </td></tr>\n",
       "\t<tr><td>NoImps   </td><td>0        </td><td>(-Inf,0] </td><td>   924   </td></tr>\n",
       "\t<tr><td>NoImps   </td><td>0        </td><td>(0,18]   </td><td>    51   </td></tr>\n",
       "\t<tr><td>NoImps   </td><td>0        </td><td>(18,24]  </td><td>   107   </td></tr>\n",
       "\t<tr><td>NoImps   </td><td>0        </td><td>(24,34]  </td><td>   162   </td></tr>\n",
       "\t<tr><td>NoImps   </td><td>0        </td><td>(34,44]  </td><td>   208   </td></tr>\n",
       "\t<tr><td>NoImps   </td><td>0        </td><td>(44,54]  </td><td>   171   </td></tr>\n",
       "\t<tr><td>NoImps   </td><td>0        </td><td>(54,64]  </td><td>   124   </td></tr>\n",
       "\t<tr><td>NoImps   </td><td>0        </td><td>(64, Inf]</td><td>   126   </td></tr>\n",
       "\t<tr><td>NoImps   </td><td>1        </td><td>(0,18]   </td><td>    97   </td></tr>\n",
       "\t<tr><td>NoImps   </td><td>1        </td><td>(18,24]  </td><td>   143   </td></tr>\n",
       "\t<tr><td>NoImps   </td><td>1        </td><td>(24,34]  </td><td>   203   </td></tr>\n",
       "\t<tr><td>NoImps   </td><td>1        </td><td>(34,44]  </td><td>   270   </td></tr>\n",
       "\t<tr><td>NoImps   </td><td>1        </td><td>(44,54]  </td><td>   226   </td></tr>\n",
       "\t<tr><td>NoImps   </td><td>1        </td><td>(54,64]  </td><td>   169   </td></tr>\n",
       "\t<tr><td>NoImps   </td><td>1        </td><td>(64, Inf]</td><td>    75   </td></tr>\n",
       "</tbody>\n",
       "</table>\n"
      ],
      "text/latex": [
       "\\begin{tabular}{r|llll}\n",
       " scode & Gender & agecat & Impressions.clen\\\\\n",
       "\\hline\n",
       "\t Clicks      & 0           & (-Inf,0{]}  &  17530     \\\\\n",
       "\t Clicks      & 0           & (0,18{]}    &    807     \\\\\n",
       "\t Clicks      & 0           & (18,24{]}   &    791     \\\\\n",
       "\t Clicks      & 0           & (24,34{]}   &   1276     \\\\\n",
       "\t Clicks      & 0           & (34,44{]}   &   1564     \\\\\n",
       "\t Clicks      & 0           & (44,54{]}   &   1442     \\\\\n",
       "\t Clicks      & 0           & (54,64{]}   &   1953     \\\\\n",
       "\t Clicks      & 0           & (64, Inf{]} &   2378     \\\\\n",
       "\t Clicks      & 1           & (0,18{]}    &   1600     \\\\\n",
       "\t Clicks      & 1           & (18,24{]}   &    953     \\\\\n",
       "\t Clicks      & 1           & (24,34{]}   &   1515     \\\\\n",
       "\t Clicks      & 1           & (34,44{]}   &   1866     \\\\\n",
       "\t Clicks      & 1           & (44,54{]}   &   1710     \\\\\n",
       "\t Clicks      & 1           & (54,64{]}   &   2298     \\\\\n",
       "\t Clicks      & 1           & (64, Inf{]} &   1490     \\\\\n",
       "\t Imps        & 0           & (-Inf,0{]}  & 116118     \\\\\n",
       "\t Imps        & 0           & (0,18{]}    &   5807     \\\\\n",
       "\t Imps        & 0           & (18,24{]}   &  14945     \\\\\n",
       "\t Imps        & 0           & (24,34{]}   &  24674     \\\\\n",
       "\t Imps        & 0           & (34,44{]}   &  29592     \\\\\n",
       "\t Imps        & 0           & (44,54{]}   &  27302     \\\\\n",
       "\t Imps        & 0           & (54,64{]}   &  18030     \\\\\n",
       "\t Imps        & 0           & (64, Inf{]} &  15397     \\\\\n",
       "\t Imps        & 1           & (0,18{]}    &  10773     \\\\\n",
       "\t Imps        & 1           & (18,24{]}   &  17590     \\\\\n",
       "\t Imps        & 1           & (24,34{]}   &  29068     \\\\\n",
       "\t Imps        & 1           & (34,44{]}   &  35474     \\\\\n",
       "\t Imps        & 1           & (44,54{]}   &  32456     \\\\\n",
       "\t Imps        & 1           & (54,64{]}   &  21469     \\\\\n",
       "\t Imps        & 1           & (64, Inf{]} &   9011     \\\\\n",
       "\t NoImps      & 0           & (-Inf,0{]}  &    924     \\\\\n",
       "\t NoImps      & 0           & (0,18{]}    &     51     \\\\\n",
       "\t NoImps      & 0           & (18,24{]}   &    107     \\\\\n",
       "\t NoImps      & 0           & (24,34{]}   &    162     \\\\\n",
       "\t NoImps      & 0           & (34,44{]}   &    208     \\\\\n",
       "\t NoImps      & 0           & (44,54{]}   &    171     \\\\\n",
       "\t NoImps      & 0           & (54,64{]}   &    124     \\\\\n",
       "\t NoImps      & 0           & (64, Inf{]} &    126     \\\\\n",
       "\t NoImps      & 1           & (0,18{]}    &     97     \\\\\n",
       "\t NoImps      & 1           & (18,24{]}   &    143     \\\\\n",
       "\t NoImps      & 1           & (24,34{]}   &    203     \\\\\n",
       "\t NoImps      & 1           & (34,44{]}   &    270     \\\\\n",
       "\t NoImps      & 1           & (44,54{]}   &    226     \\\\\n",
       "\t NoImps      & 1           & (54,64{]}   &    169     \\\\\n",
       "\t NoImps      & 1           & (64, Inf{]} &     75     \\\\\n",
       "\\end{tabular}\n"
      ],
      "text/markdown": [
       "\n",
       "scode | Gender | agecat | Impressions.clen | \n",
       "|---|---|---|---|---|---|---|---|---|---|---|---|---|---|---|---|---|---|---|---|---|---|---|---|---|---|---|---|---|---|---|---|---|---|---|---|---|---|---|---|---|---|---|---|---|\n",
       "| Clicks    | 0         | (-Inf,0]  |  17530    | \n",
       "| Clicks    | 0         | (0,18]    |    807    | \n",
       "| Clicks    | 0         | (18,24]   |    791    | \n",
       "| Clicks    | 0         | (24,34]   |   1276    | \n",
       "| Clicks    | 0         | (34,44]   |   1564    | \n",
       "| Clicks    | 0         | (44,54]   |   1442    | \n",
       "| Clicks    | 0         | (54,64]   |   1953    | \n",
       "| Clicks    | 0         | (64, Inf] |   2378    | \n",
       "| Clicks    | 1         | (0,18]    |   1600    | \n",
       "| Clicks    | 1         | (18,24]   |    953    | \n",
       "| Clicks    | 1         | (24,34]   |   1515    | \n",
       "| Clicks    | 1         | (34,44]   |   1866    | \n",
       "| Clicks    | 1         | (44,54]   |   1710    | \n",
       "| Clicks    | 1         | (54,64]   |   2298    | \n",
       "| Clicks    | 1         | (64, Inf] |   1490    | \n",
       "| Imps      | 0         | (-Inf,0]  | 116118    | \n",
       "| Imps      | 0         | (0,18]    |   5807    | \n",
       "| Imps      | 0         | (18,24]   |  14945    | \n",
       "| Imps      | 0         | (24,34]   |  24674    | \n",
       "| Imps      | 0         | (34,44]   |  29592    | \n",
       "| Imps      | 0         | (44,54]   |  27302    | \n",
       "| Imps      | 0         | (54,64]   |  18030    | \n",
       "| Imps      | 0         | (64, Inf] |  15397    | \n",
       "| Imps      | 1         | (0,18]    |  10773    | \n",
       "| Imps      | 1         | (18,24]   |  17590    | \n",
       "| Imps      | 1         | (24,34]   |  29068    | \n",
       "| Imps      | 1         | (34,44]   |  35474    | \n",
       "| Imps      | 1         | (44,54]   |  32456    | \n",
       "| Imps      | 1         | (54,64]   |  21469    | \n",
       "| Imps      | 1         | (64, Inf] |   9011    | \n",
       "| NoImps    | 0         | (-Inf,0]  |    924    | \n",
       "| NoImps    | 0         | (0,18]    |     51    | \n",
       "| NoImps    | 0         | (18,24]   |    107    | \n",
       "| NoImps    | 0         | (24,34]   |    162    | \n",
       "| NoImps    | 0         | (34,44]   |    208    | \n",
       "| NoImps    | 0         | (44,54]   |    171    | \n",
       "| NoImps    | 0         | (54,64]   |    124    | \n",
       "| NoImps    | 0         | (64, Inf] |    126    | \n",
       "| NoImps    | 1         | (0,18]    |     97    | \n",
       "| NoImps    | 1         | (18,24]   |    143    | \n",
       "| NoImps    | 1         | (24,34]   |    203    | \n",
       "| NoImps    | 1         | (34,44]   |    270    | \n",
       "| NoImps    | 1         | (44,54]   |    226    | \n",
       "| NoImps    | 1         | (54,64]   |    169    | \n",
       "| NoImps    | 1         | (64, Inf] |     75    | \n",
       "\n",
       "\n"
      ],
      "text/plain": [
       "   scode  Gender agecat    Impressions.clen\n",
       "1  Clicks 0      (-Inf,0]   17530          \n",
       "2  Clicks 0      (0,18]       807          \n",
       "3  Clicks 0      (18,24]      791          \n",
       "4  Clicks 0      (24,34]     1276          \n",
       "5  Clicks 0      (34,44]     1564          \n",
       "6  Clicks 0      (44,54]     1442          \n",
       "7  Clicks 0      (54,64]     1953          \n",
       "8  Clicks 0      (64, Inf]   2378          \n",
       "9  Clicks 1      (0,18]      1600          \n",
       "10 Clicks 1      (18,24]      953          \n",
       "11 Clicks 1      (24,34]     1515          \n",
       "12 Clicks 1      (34,44]     1866          \n",
       "13 Clicks 1      (44,54]     1710          \n",
       "14 Clicks 1      (54,64]     2298          \n",
       "15 Clicks 1      (64, Inf]   1490          \n",
       "16 Imps   0      (-Inf,0]  116118          \n",
       "17 Imps   0      (0,18]      5807          \n",
       "18 Imps   0      (18,24]    14945          \n",
       "19 Imps   0      (24,34]    24674          \n",
       "20 Imps   0      (34,44]    29592          \n",
       "21 Imps   0      (44,54]    27302          \n",
       "22 Imps   0      (54,64]    18030          \n",
       "23 Imps   0      (64, Inf]  15397          \n",
       "24 Imps   1      (0,18]     10773          \n",
       "25 Imps   1      (18,24]    17590          \n",
       "26 Imps   1      (24,34]    29068          \n",
       "27 Imps   1      (34,44]    35474          \n",
       "28 Imps   1      (44,54]    32456          \n",
       "29 Imps   1      (54,64]    21469          \n",
       "30 Imps   1      (64, Inf]   9011          \n",
       "31 NoImps 0      (-Inf,0]     924          \n",
       "32 NoImps 0      (0,18]        51          \n",
       "33 NoImps 0      (18,24]      107          \n",
       "34 NoImps 0      (24,34]      162          \n",
       "35 NoImps 0      (34,44]      208          \n",
       "36 NoImps 0      (44,54]      171          \n",
       "37 NoImps 0      (54,64]      124          \n",
       "38 NoImps 0      (64, Inf]    126          \n",
       "39 NoImps 1      (0,18]        97          \n",
       "40 NoImps 1      (18,24]      143          \n",
       "41 NoImps 1      (24,34]      203          \n",
       "42 NoImps 1      (34,44]      270          \n",
       "43 NoImps 1      (44,54]      226          \n",
       "44 NoImps 1      (54,64]      169          \n",
       "45 NoImps 1      (64, Inf]     75          "
      ]
     },
     "metadata": {},
     "output_type": "display_data"
    }
   ],
   "source": [
    "etable"
   ]
  },
  {
   "cell_type": "code",
   "execution_count": null,
   "metadata": {
    "collapsed": true
   },
   "outputs": [],
   "source": []
  }
 ],
 "metadata": {
  "kernelspec": {
   "display_name": "R",
   "language": "R",
   "name": "ir"
  },
  "language_info": {
   "codemirror_mode": "r",
   "file_extension": ".r",
   "mimetype": "text/x-r-source",
   "name": "R",
   "pygments_lexer": "r",
   "version": "3.3.2"
  }
 },
 "nbformat": 4,
 "nbformat_minor": 2
}
